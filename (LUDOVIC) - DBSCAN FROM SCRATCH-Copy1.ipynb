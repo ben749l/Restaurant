{
 "cells": [
  {
   "cell_type": "markdown",
   "metadata": {},
   "source": [
    "# DBSCAN FROM SCRATCH"
   ]
  },
  {
   "cell_type": "code",
   "execution_count": 335,
   "metadata": {},
   "outputs": [],
   "source": [
    "import numpy as np\n",
    "import math"
   ]
  },
  {
   "cell_type": "markdown",
   "metadata": {},
   "source": [
    "# 1) DISTANCE EUCLIDIENNE"
   ]
  },
  {
   "cell_type": "code",
   "execution_count": 336,
   "metadata": {},
   "outputs": [],
   "source": [
    "# Distance entre 2 points\n",
    "# On va chercher à comparer cette distance à epsilon\n",
    "# Epsilon (eps) est le rayon par rapport à un point qui sera le centre d'un cercle"
   ]
  },
  {
   "cell_type": "code",
   "execution_count": 337,
   "metadata": {},
   "outputs": [],
   "source": [
    "def distance_euclidienne(a,b):\n",
    "    return math.sqrt(np.power(a-b,2))"
   ]
  },
  {
   "cell_type": "code",
   "execution_count": 338,
   "metadata": {},
   "outputs": [
    {
     "data": {
      "text/plain": [
       "3.0"
      ]
     },
     "execution_count": 338,
     "metadata": {},
     "output_type": "execute_result"
    }
   ],
   "source": [
    "# Test de la fonction\n",
    "\n",
    "distance_euclidienne(2,5)"
   ]
  },
  {
   "cell_type": "markdown",
   "metadata": {},
   "source": [
    "# 2) RETOURNER UN BOOLEEN EN COMPARANT LA DISTANCE EUCLIDIENNE AVEC EPSILON"
   ]
  },
  {
   "cell_type": "markdown",
   "metadata": {},
   "source": [
    "Ce booléen (True ou False) va nous permettre de réaliser une condition.<p>\n",
    "Si c'est True : la distance entre le point sélectionné et un autre point est inférieure à eps.<p>\n",
    "Donc le point sélectionné (point central) sera un core point (POINT INTERIEUR)."
   ]
  },
  {
   "cell_type": "code",
   "execution_count": 339,
   "metadata": {},
   "outputs": [],
   "source": [
    "# Fonction qui permet de voir si la distance entre 2 points est inférieure à eps\n",
    "# Si c'est égal à True : la distance entre le point sélectionné et un autre point est inférieure à eps.\n",
    "\n",
    "def eps_neighborhood(a,b,eps):\n",
    "    # eps : distance maximale entre 2 pts pour qu'ils puissent être dans la même région\n",
    "    return distance_euclidienne(a,b) < eps"
   ]
  },
  {
   "cell_type": "code",
   "execution_count": 340,
   "metadata": {},
   "outputs": [
    {
     "data": {
      "text/plain": [
       "True"
      ]
     },
     "execution_count": 340,
     "metadata": {},
     "output_type": "execute_result"
    }
   ],
   "source": [
    "eps_neighborhood(2,5,4)"
   ]
  },
  {
   "cell_type": "code",
   "execution_count": 341,
   "metadata": {},
   "outputs": [],
   "source": [
    "# Distance euclidienne = 3 < epsilon = 4 -> Donc c'est True"
   ]
  },
  {
   "cell_type": "code",
   "execution_count": 342,
   "metadata": {},
   "outputs": [],
   "source": [
    "# AUTRE EXEMPLE AVEC UNE MATRICE"
   ]
  },
  {
   "cell_type": "code",
   "execution_count": 343,
   "metadata": {},
   "outputs": [
    {
     "data": {
      "text/plain": [
       "(1, 10)"
      ]
     },
     "execution_count": 343,
     "metadata": {},
     "output_type": "execute_result"
    }
   ],
   "source": [
    "m = np.matrix('1 1.2 3.7 32.9 0.8 5.7 3.9 6 8.9 5')\n",
    "m.shape"
   ]
  },
  {
   "cell_type": "code",
   "execution_count": 344,
   "metadata": {},
   "outputs": [
    {
     "name": "stdout",
     "output_type": "stream",
     "text": [
      "False\n"
     ]
    }
   ],
   "source": [
    "for i in m:\n",
    "    result = eps_neighborhood(m[0,0],m[0,2],2)\n",
    "    print(result)"
   ]
  },
  {
   "cell_type": "code",
   "execution_count": 345,
   "metadata": {},
   "outputs": [],
   "source": [
    "# La distance entre la 1ère valeur de m et la 3ème est supérieure à 2 donc False"
   ]
  },
  {
   "cell_type": "markdown",
   "metadata": {},
   "source": [
    "# 3) RECHERCHE DES POINTS QUI SONT A UNE DISTANCE DE EPSILON OU MOINS : donc dans le voisinage du point central"
   ]
  },
  {
   "cell_type": "code",
   "execution_count": 346,
   "metadata": {},
   "outputs": [],
   "source": [
    "# Va retourner tous les points de m qui sont à une distance inférieure à epsilon de point_id"
   ]
  },
  {
   "cell_type": "code",
   "execution_count": 347,
   "metadata": {},
   "outputs": [],
   "source": [
    "def get_neighbors(m, point_id, eps):\n",
    "    \n",
    "    # m : matrice 2D par exemple\n",
    "    \n",
    "    number_of_points = m.shape[1]\n",
    "    neighbors = []\n",
    "    # On va stocker dans cette liste vide les indexes des points qui seront considérés comme voisin du point central\n",
    "    # Pour qu'un point soit considéré comme tel, la distance euclidienne (entre chaque point du cercle et le point centre) doit être inférieure à epsilon\n",
    "    \n",
    "    # Boucle sur le nombre de points de m\n",
    "    for i in range(0, number_of_points):\n",
    "        # On cherche à voir si la distance entre 2 points est à une distance inférieure à epsilon\n",
    "        # Si c'est le cas, on l'ajoute à la liste vide neighbors\n",
    "        if eps_neighborhood(m[:,point_id], m[:,i], eps):\n",
    "            neighbors.append(i)\n",
    "            #Retourne une liste d'index d'échantillons voisins\n",
    "    return neighbors"
   ]
  },
  {
   "cell_type": "code",
   "execution_count": 348,
   "metadata": {},
   "outputs": [
    {
     "data": {
      "text/plain": [
       "[0, 1, 4]"
      ]
     },
     "execution_count": 348,
     "metadata": {},
     "output_type": "execute_result"
    }
   ],
   "source": [
    "m = np.matrix('1 1.2 3.7 32.9 0.8 5.7 3.9 6 8.9 5')\n",
    "eps = 2\n",
    "\n",
    "get_neighbors(m, [0], eps)"
   ]
  },
  {
   "cell_type": "markdown",
   "metadata": {},
   "source": [
    "Ici on a testé la fonction get_neighbors() :\n",
    "    - Pour données : m\n",
    "    - point_id : la première valeur (index 0, \"[0]\")\n",
    "    - eps : 2\n",
    "    \n",
    "La distance euclidienne entre ce point d'index 0 (de valeur 1) a été calculée puis comparée à eps.\n",
    "\n",
    "Toutes les distances inférieures à eps sont True donc les index ont été ajoutés à la liste vide neighbors."
   ]
  },
  {
   "cell_type": "markdown",
   "metadata": {},
   "source": [
    "# 4) FONCTION ETENDRE CLUSTER"
   ]
  },
  {
   "cell_type": "markdown",
   "metadata": {},
   "source": [
    "Objectif : "
   ]
  },
  {
   "cell_type": "code",
   "execution_count": 349,
   "metadata": {},
   "outputs": [],
   "source": [
    "# On initialise 2 valeurs: \n",
    "\n",
    "# NOISE est vide au départ\n",
    "NOISE = None\n",
    "\n",
    "# On va réaliser une condition afin de classifier tout\n",
    "UNCLASSIFIED = False"
   ]
  },
  {
   "cell_type": "code",
   "execution_count": 383,
   "metadata": {},
   "outputs": [],
   "source": [
    "# On cherche à étendre le cluster jusqu'à avoir tous les index qui sont dans le cluster correspondant\n",
    "\n",
    "def expand_cluster(m, classifications, point_id, cluster_id, eps, min_samples):\n",
    "    \n",
    "    neighbors = get_neighbors(m, point_id, eps)\n",
    "    # neighbors va retourner tous les points de m qui sont à une distance inférieure à epsilon de point_id\n",
    "    \n",
    "    # Si le nombre de points est inférieur au minimum de points requis (min_samples) -> ce point est du bruit (NOISE)\n",
    "    if len(neighbors) < min_samples:\n",
    "        classifications[point_id] = NOISE\n",
    "        #Les points considérés comme bruit auront la valeur None dans la liste finale\n",
    "        #print(\"None value :\")\n",
    "        #print(neighbors)\n",
    "        #print(classifications)\n",
    "        #return False\n",
    "    \n",
    "    # Sinon\n",
    "    else:   \n",
    "        current_point = neighbors[0]\n",
    "        results = get_neighbors(m, current_point, eps)\n",
    "        \n",
    "        # print(results)\n",
    "        # Ce print donne : \n",
    "        # [0, 1, 3]\n",
    "        # [2, 5]\n",
    "            \n",
    "        if len(results) >= min_samples:\n",
    "            # On parcourt toute la liste de results\n",
    "            for i in range(0, len(results)):\n",
    "                result_point = results[i]\n",
    "                if classifications[result_point] == UNCLASSIFIED or classifications[result_point] == NOISE:\n",
    "                    if classifications[result_point] == UNCLASSIFIED:\n",
    "                        x = neighbors.append(result_point)\n",
    "                        # print(x)\n",
    "                    y = classifications[result_point] = cluster_id\n",
    "                    # print(y)\n",
    "                        \n",
    "                    #print(classifications)\n",
    "                        \n",
    "                    # Ce print donne:\n",
    "                    # [1, False, False, False, False, False, False]\n",
    "                    # [1, 1, False, False, False, False, False]\n",
    "                    # [1, 1, False, 1, False, False, False]\n",
    "                    # [1, 1, 2, 1, False, False, False]\n",
    "                    # [1, 1, 2, 1, False, 2, False]                \n",
    "                        \n",
    "        neighbors = neighbors[1:]\n",
    "        #print(neighbors)\n",
    "    return True"
   ]
  },
  {
   "cell_type": "code",
   "execution_count": 384,
   "metadata": {},
   "outputs": [],
   "source": [
    "# min_samples : nombre minimum de points pour faire un cluster\n",
    "\n",
    "def dbscan(m, eps, min_samples):\n",
    "    cluster_id = 1\n",
    "    n_points = m.shape[1]\n",
    "    \n",
    "    #On considère au départ tous les points comme non classifiés (False) (UNCLASSIFIED = False)\n",
    "    classifications = [UNCLASSIFIED] * n_points\n",
    "    # classifications sera à la fin la liste des valeurs de cluster (1,2,None etc...)\n",
    "    # print(classifications)\n",
    "    # print(classifications) donnera [False, False, False, False, False, False, False]\n",
    "    \n",
    "    # On parcourt tous les points qui ont la longueur n_points\n",
    "    for point_id in range(0, n_points):\n",
    "        point = m[:,point_id]\n",
    "        #print(point)\n",
    "        \n",
    "        # Tant que c'est faux (si des points ne sont pas classifiés), on cherche à classifier\n",
    "        if classifications[point_id] == UNCLASSIFIED:\n",
    "            if expand_cluster(m, classifications, point_id, cluster_id, eps, min_samples):\n",
    "                # Si on a atteint la frontière on ajoute un autre cluster (donc +1 à la valeur du cluster de départ)\n",
    "                cluster_id = cluster_id + 1\n",
    "    return classifications"
   ]
  },
  {
   "cell_type": "code",
   "execution_count": 385,
   "metadata": {},
   "outputs": [],
   "source": [
    "m = np.matrix('1 1.2 3.7 0.8 5.7 3.9 8.9')\n",
    "eps = 0.5\n",
    "min_samples = 2"
   ]
  },
  {
   "cell_type": "code",
   "execution_count": 386,
   "metadata": {},
   "outputs": [
    {
     "data": {
      "text/plain": [
       "[1, 1, 2, 1, None, 2, None]"
      ]
     },
     "execution_count": 386,
     "metadata": {},
     "output_type": "execute_result"
    }
   ],
   "source": [
    "dbscan(m, eps, min_samples)"
   ]
  },
  {
   "cell_type": "code",
   "execution_count": 361,
   "metadata": {},
   "outputs": [],
   "source": [
    "# On voit bien que la valeur \"3.7\" et \"3.9\" appartiennent au même cluster\n",
    "# Les autres points sont dans la classe 1 car proche de 1\n",
    "# \"0.8\" et \"8.9\" sont trop loin donc None (bruit)"
   ]
  },
  {
   "cell_type": "code",
   "execution_count": 393,
   "metadata": {},
   "outputs": [
    {
     "data": {
      "text/plain": [
       "[None, 2, 3, None, 3, 3, 2]"
      ]
     },
     "execution_count": 393,
     "metadata": {},
     "output_type": "execute_result"
    }
   ],
   "source": [
    "data = np.matrix('100 10 4 800 6 3.9 9')\n",
    "\n",
    "dbscan(data, 3, 2)"
   ]
  }
 ],
 "metadata": {
  "kernelspec": {
   "display_name": "Python 3",
   "language": "python",
   "name": "python3"
  },
  "language_info": {
   "codemirror_mode": {
    "name": "ipython",
    "version": 3
   },
   "file_extension": ".py",
   "mimetype": "text/x-python",
   "name": "python",
   "nbconvert_exporter": "python",
   "pygments_lexer": "ipython3",
   "version": "3.7.3"
  }
 },
 "nbformat": 4,
 "nbformat_minor": 2
}
